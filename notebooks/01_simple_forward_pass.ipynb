{
 "cells": [
  {
   "cell_type": "markdown",
   "metadata": {
    "id": "sj-6FWZG8svI"
   },
   "source": [
    "## Simple forward pass\n",
    "\n",
    "In this notebook you will do a simple forward pass for a neural network with and without hidden layers. You will use the sigmoid function to calculate the probability if a banknote is fake or not.\n",
    "\n",
    "**Dataset:** You work with a banknote data set and classification task. We have 2 features.\n",
    "\n",
    "* x1: skewness of wavelet transformed image  \n",
    "* x2: entropy of wavelet transformed image  \n",
    "\n",
    "Don't worry too much about where these features come from.\n",
    "\n",
    "**The goal is to classify each banknote to either \"real\" (Y=0) or \"fake\" (Y=1).**\n",
    "\n",
    "\n",
    "**Content:**\n",
    "* calculate the forward pass of the neural network without hidden layer by hand, with matrix multiplication and keras\n",
    "* visualize the learned decision boundary in a 2D plot\n",
    "* calculate the forward pass of the neural network with one hidden layer (8 nodes) with matrix multiplication and keras\n",
    "* visualize the learned decision boundary in a 2D plot\n",
    "* compare the decision boundaries of the two models"
   ]
  },
  {
   "cell_type": "markdown",
   "metadata": {
    "id": "ibbkc6Bk8svK"
   },
   "source": [
    "#### Imports"
   ]
  },
  {
   "cell_type": "code",
   "execution_count": 94,
   "metadata": {
    "id": "1ngv2ErQ8svK",
    "ExecuteTime": {
     "end_time": "2024-02-27T12:36:04.217936Z",
     "start_time": "2024-02-27T12:36:04.158502Z"
    }
   },
   "outputs": [],
   "source": [
    "import numpy as np\n",
    "import math\n",
    "import matplotlib.pyplot as plt\n",
    "%matplotlib inline\n",
    "import ipywidgets as widgets\n",
    "from IPython.display import display, clear_output\n",
    "\n",
    "from tensorflow.keras.models import Sequential\n",
    "from tensorflow.keras.layers import Dense\n",
    "from tensorflow.keras.utils import to_categorical\n",
    "from tensorflow.keras import optimizers"
   ]
  },
  {
   "cell_type": "code",
   "execution_count": 95,
   "metadata": {
    "id": "QT6DfrGK8svL",
    "ExecuteTime": {
     "end_time": "2024-02-27T12:36:04.239474Z",
     "start_time": "2024-02-27T12:36:04.162344Z"
    }
   },
   "outputs": [],
   "source": [
    "# definition of the sigmoid function\n",
    "def sigmoid(z):\n",
    "    return (1 / (1 + np.exp(-z)))"
   ]
  },
  {
   "cell_type": "code",
   "execution_count": 96,
   "metadata": {
    "id": "PEWKaefG8svL",
    "ExecuteTime": {
     "end_time": "2024-02-27T12:36:04.245195Z",
     "start_time": "2024-02-27T12:36:04.164313Z"
    }
   },
   "outputs": [],
   "source": [
    "# we just assume x1 and x2\n",
    "x1 = 1\n",
    "x2 = 2.2"
   ]
  },
  {
   "cell_type": "code",
   "execution_count": 97,
   "metadata": {
    "id": "Gu9wI6yC8svL",
    "ExecuteTime": {
     "end_time": "2024-02-27T12:36:04.245355Z",
     "start_time": "2024-02-27T12:36:04.166868Z"
    }
   },
   "outputs": [],
   "source": [
    "# we just assume w1 and w2 and b1\n",
    "w1 = 0.3\n",
    "w2 = 0.1\n",
    "b  = 1"
   ]
  },
  {
   "cell_type": "markdown",
   "metadata": {
    "id": "acwVBVG88svL"
   },
   "source": [
    "### Forward pass by hand"
   ]
  },
  {
   "cell_type": "code",
   "execution_count": 98,
   "metadata": {
    "id": "DhPTThze8svL",
    "ExecuteTime": {
     "end_time": "2024-02-27T12:36:04.254629Z",
     "start_time": "2024-02-27T12:36:04.171256Z"
    }
   },
   "outputs": [
    {
     "data": {
      "text/plain": "1.52"
     },
     "execution_count": 98,
     "metadata": {},
     "output_type": "execute_result"
    }
   ],
   "source": [
    "(x1*w1+x2*w2)+b ## output before the activation"
   ]
  },
  {
   "cell_type": "code",
   "execution_count": 99,
   "metadata": {
    "id": "EgK1_qJ68svL",
    "ExecuteTime": {
     "end_time": "2024-02-27T12:36:04.293721Z",
     "start_time": "2024-02-27T12:36:04.173779Z"
    }
   },
   "outputs": [
    {
     "data": {
      "text/plain": "0.8205384805926733"
     },
     "execution_count": 99,
     "metadata": {},
     "output_type": "execute_result"
    }
   ],
   "source": [
    "sigmoid((x1*w1+x2*w2)+b) ## output after the sigmoid activation\n",
    "                         ## probability of the banknote to be fake"
   ]
  },
  {
   "cell_type": "markdown",
   "metadata": {
    "id": "CDGBROmM8svM"
   },
   "source": [
    "### Forward pass with matrix multiplication"
   ]
  },
  {
   "cell_type": "code",
   "execution_count": 100,
   "metadata": {
    "id": "6sh-iy-B8svM",
    "ExecuteTime": {
     "end_time": "2024-02-27T12:36:04.295418Z",
     "start_time": "2024-02-27T12:36:04.175591Z"
    }
   },
   "outputs": [],
   "source": [
    "X=np.array([[x1,x2]])"
   ]
  },
  {
   "cell_type": "code",
   "execution_count": 101,
   "metadata": {
    "id": "5cNvynNK8svM",
    "ExecuteTime": {
     "end_time": "2024-02-27T12:36:04.295496Z",
     "start_time": "2024-02-27T12:36:04.178766Z"
    }
   },
   "outputs": [],
   "source": [
    "W=np.array([[w1],[w2]])"
   ]
  },
  {
   "cell_type": "code",
   "execution_count": 102,
   "metadata": {
    "id": "Vg3WmjYD8svM",
    "ExecuteTime": {
     "end_time": "2024-02-27T12:36:04.295595Z",
     "start_time": "2024-02-27T12:36:04.181445Z"
    }
   },
   "outputs": [
    {
     "name": "stdout",
     "output_type": "stream",
     "text": [
      "(1, 2)\n",
      "(2, 1)\n"
     ]
    }
   ],
   "source": [
    "print(X.shape)\n",
    "print(W.shape)"
   ]
  },
  {
   "cell_type": "code",
   "execution_count": 103,
   "metadata": {
    "id": "MnDlU0q38svM",
    "ExecuteTime": {
     "end_time": "2024-02-27T12:36:04.295705Z",
     "start_time": "2024-02-27T12:36:04.184321Z"
    }
   },
   "outputs": [
    {
     "data": {
      "text/plain": "array([[1.52]])"
     },
     "execution_count": 103,
     "metadata": {},
     "output_type": "execute_result"
    }
   ],
   "source": [
    "np.matmul(X,W)+b  ## output before the activation"
   ]
  },
  {
   "cell_type": "code",
   "execution_count": 104,
   "metadata": {
    "id": "8-W1vsgQ8svN",
    "ExecuteTime": {
     "end_time": "2024-02-27T12:36:04.306995Z",
     "start_time": "2024-02-27T12:36:04.186908Z"
    }
   },
   "outputs": [
    {
     "data": {
      "text/plain": "array([[0.82053848]])"
     },
     "execution_count": 104,
     "metadata": {},
     "output_type": "execute_result"
    }
   ],
   "source": [
    "sigmoid(np.matmul(X,W)+b) ## output after the sigmoid activation\n",
    "                          ## probability of the banknote to be fake"
   ]
  },
  {
   "cell_type": "code",
   "execution_count": 105,
   "metadata": {
    "id": "bZ0ox46O8svN",
    "ExecuteTime": {
     "end_time": "2024-02-27T12:36:04.316292Z",
     "start_time": "2024-02-27T12:36:04.189341Z"
    }
   },
   "outputs": [],
   "source": [
    "## function which returns the probability output after the matrix multiplication\n",
    "def predict_no_hidden(X):\n",
    "    return sigmoid(np.matmul(X,W)+b)"
   ]
  },
  {
   "cell_type": "code",
   "execution_count": 106,
   "metadata": {
    "id": "trOS-lhW8svN",
    "ExecuteTime": {
     "end_time": "2024-02-27T12:36:04.316618Z",
     "start_time": "2024-02-27T12:36:04.193156Z"
    }
   },
   "outputs": [],
   "source": [
    "### funtion which plots the decision boundary\n",
    "def plotModel(predict, t):\n",
    "    # define a grid for the 2D feature space\n",
    "    # predict at each grid point the probability for class 1\n",
    "\n",
    "    x1list = np.linspace(-10, 10, 10) # Define 100 points on the x-axis\n",
    "    x2list = np.linspace(-10, 10, 10) # Define 100 points on the x-axis\n",
    "    X1_grid, X2_grid = np.meshgrid(x1list, x2list)\n",
    "\n",
    "    # model.predict for respective value x1 and x2\n",
    "    p = np.array([predict(np.reshape(np.array([l1,l2]),(1,2))) for l1,l2 in zip(np.ravel(X1_grid), np.ravel(X2_grid))])\n",
    "    #print(p.shape)\n",
    "    if len(p.shape) == 3 and p.shape[2]==2:\n",
    "        p = p[:,:,1] # pick p for class 1 if there are more than 2 classes\n",
    "    p = np.reshape(p,X1_grid.shape)\n",
    "\n",
    "    # visualize the predicted probabilities in the 2D feature space\n",
    "    # once without and once with the data points used for fitting\n",
    "    plt.figure(figsize=(16,4))\n",
    "    plt.subplot(1,2,(1))\n",
    "    cp = plt.contourf(X1_grid, X2_grid, p, cmap='RdBu_r')\n",
    "    plt.colorbar(cp)\n",
    "    plt.title(t)\n",
    "    plt.xlabel('x1')\n",
    "    plt.ylabel('x2')"
   ]
  },
  {
   "cell_type": "markdown",
   "metadata": {
    "id": "V8efVoF38svN"
   },
   "source": [
    "#### Exercise\n",
    "Play around with the values for x1 and x2 and check if the position at the decision boundary\n",
    "matches the predicted probability\n",
    "How does the decision boundary look?\n"
   ]
  },
  {
   "cell_type": "code",
   "execution_count": 107,
   "metadata": {
    "id": "EQqgzIo58svN",
    "ExecuteTime": {
     "end_time": "2024-02-27T12:36:04.323189Z",
     "start_time": "2024-02-27T12:36:04.199315Z"
    }
   },
   "outputs": [
    {
     "data": {
      "text/plain": "interactive(children=(FloatSlider(value=0.0, description='x1', max=10.0, min=-10.0), FloatSlider(value=0.0, de…",
      "application/vnd.jupyter.widget-view+json": {
       "version_major": 2,
       "version_minor": 0,
       "model_id": "72d17a334d6f48b5a7743a8054706436"
      }
     },
     "metadata": {},
     "output_type": "display_data"
    }
   ],
   "source": [
    "# Do not worry about this  cell! , just move the sliders\n",
    "def move_observation(x1, x2):\n",
    "    clear_output(wait=True)\n",
    "    plotModel(predict=predict_no_hidden, t='FCNN Separation without Hidden Layer')\n",
    "    plt.scatter(x1, x2, c=\"black\", s=50)\n",
    "    print(f'predicted proba: {predict_no_hidden((x1,x2))}')\n",
    "    plt.show()\n",
    "    return None\n",
    "x1_slider = widgets.FloatSlider(min=-10, max=10, step=.1, value=0, description='x1')\n",
    "x2_slider = widgets.FloatSlider(min=-10, max=10, step=.1, value=0, description='x2')\n",
    "widgets.interact(move_observation, x1=x1_slider, x2=x2_slider);"
   ]
  },
  {
   "cell_type": "markdown",
   "source": [
    "Your answer here:\n",
    "\n",
    "-\n",
    "\n",
    "-"
   ],
   "metadata": {
    "id": "YAicwljIgJZu"
   }
  },
  {
   "cell_type": "markdown",
   "metadata": {
    "id": "VUpKQPFU8svN"
   },
   "source": [
    "### Forward pass with hidden layer (matrix multiplication)"
   ]
  },
  {
   "cell_type": "code",
   "execution_count": 108,
   "metadata": {
    "id": "ZK0MrJBX8svN",
    "ExecuteTime": {
     "end_time": "2024-02-27T12:36:04.324267Z",
     "start_time": "2024-02-27T12:36:04.292784Z"
    }
   },
   "outputs": [],
   "source": [
    "# we use the same values for x1 and x2 and random normal values for the weights\n",
    "X=np.array([[x1,x2]])\n",
    "np.random.seed(22)\n",
    "W1=np.reshape((np.random.normal(0,1,16)),(2,8))\n",
    "np.random.seed(22)\n",
    "b1=np.reshape((np.random.normal(0,1,8)),(8,))\n",
    "np.random.seed(22)\n",
    "W2=np.reshape((np.random.normal(0,1,8)),(8,1))\n",
    "np.random.seed(22)\n",
    "b2=np.reshape((np.random.normal(0,1,1)),(1,))"
   ]
  },
  {
   "cell_type": "code",
   "execution_count": 109,
   "metadata": {
    "scrolled": false,
    "id": "-3rrVKlj8svN",
    "ExecuteTime": {
     "end_time": "2024-02-27T12:36:04.327278Z",
     "start_time": "2024-02-27T12:36:04.294863Z"
    }
   },
   "outputs": [
    {
     "name": "stdout",
     "output_type": "stream",
     "text": [
      "(1, 2)\n",
      "(2, 8)\n",
      "(8,)\n",
      "(8, 1)\n",
      "(1,)\n"
     ]
    }
   ],
   "source": [
    "print(X.shape)\n",
    "print(W1.shape)\n",
    "print(b1.shape)\n",
    "print(W2.shape)\n",
    "print(b2.shape)"
   ]
  },
  {
   "cell_type": "code",
   "execution_count": 110,
   "metadata": {
    "id": "hK3HPHeU8svO",
    "ExecuteTime": {
     "end_time": "2024-02-27T12:36:04.327407Z",
     "start_time": "2024-02-27T12:36:04.297426Z"
    }
   },
   "outputs": [
    {
     "data": {
      "text/plain": "array([[0.76752454, 0.01533699, 0.90265373, 0.27163597, 0.57707969,\n        0.41351693, 0.37964327, 0.52893641]])"
     },
     "execution_count": 110,
     "metadata": {},
     "output_type": "execute_result"
    }
   ],
   "source": [
    "hidden=sigmoid(np.matmul(X,W1)+b1)\n",
    "hidden"
   ]
  },
  {
   "cell_type": "code",
   "execution_count": 111,
   "metadata": {
    "id": "s40MqW208svO",
    "ExecuteTime": {
     "end_time": "2024-02-27T12:36:04.327503Z",
     "start_time": "2024-02-27T12:36:04.300085Z"
    }
   },
   "outputs": [
    {
     "data": {
      "text/plain": "array([[0.44860787]])"
     },
     "execution_count": 111,
     "metadata": {},
     "output_type": "execute_result"
    }
   ],
   "source": [
    "p_out=sigmoid(np.matmul(hidden,W2)+b2)\n",
    "p_out"
   ]
  },
  {
   "cell_type": "code",
   "execution_count": 112,
   "metadata": {
    "id": "9QirfKZP8svO",
    "ExecuteTime": {
     "end_time": "2024-02-27T12:36:04.327549Z",
     "start_time": "2024-02-27T12:36:04.302973Z"
    }
   },
   "outputs": [],
   "source": [
    "## function to return the probability output after the hidden layer\n",
    "def predict_hidden(X):\n",
    "    hidden=sigmoid(np.matmul(X,W1)+b1)\n",
    "    return(sigmoid(np.matmul(hidden,W2)+b2))"
   ]
  },
  {
   "cell_type": "markdown",
   "source": [],
   "metadata": {
    "id": "O1SZBw53QGuS"
   }
  },
  {
   "cell_type": "code",
   "execution_count": 113,
   "metadata": {
    "id": "J-3Hjg5j8svO",
    "ExecuteTime": {
     "end_time": "2024-02-27T12:36:04.328268Z",
     "start_time": "2024-02-27T12:36:04.305241Z"
    }
   },
   "outputs": [
    {
     "data": {
      "text/plain": "(array([[1. , 2.2]]), array([[0.44860787]]))"
     },
     "execution_count": 113,
     "metadata": {},
     "output_type": "execute_result"
    }
   ],
   "source": [
    "X,predict_hidden(X)"
   ]
  },
  {
   "cell_type": "code",
   "execution_count": 114,
   "metadata": {
    "id": "wrL6h3LC8svO",
    "ExecuteTime": {
     "end_time": "2024-02-27T12:36:04.407319Z",
     "start_time": "2024-02-27T12:36:04.308926Z"
    }
   },
   "outputs": [
    {
     "data": {
      "text/plain": "<matplotlib.collections.PathCollection at 0x28fc3ae50>"
     },
     "execution_count": 114,
     "metadata": {},
     "output_type": "execute_result"
    },
    {
     "data": {
      "text/plain": "<Figure size 1600x400 with 2 Axes>",
      "image/png": "[encoded data removed]"
     },
     "metadata": {},
     "output_type": "display_data"
    }
   ],
   "source": [
    "plotModel(predict_hidden, t='fcnn separation with hidden layer')\n",
    "plt.scatter(x1,x2,c=\"black\",s=50)"
   ]
  },
  {
   "cell_type": "markdown",
   "metadata": {
    "id": "CHPyVlC48svO"
   },
   "source": [
    "#### Exercise\n",
    "- Play around with the values for x1 and x2 and check if the position at the decision boundary\n",
    "matches the predicted probability\n",
    "How does the decision boundary look?  \n",
    "\n",
    "- Add a second hidden Layer, with 8 nodes."
   ]
  },
  {
   "cell_type": "code",
   "execution_count": 115,
   "metadata": {
    "id": "I2yFDVv78svO",
    "ExecuteTime": {
     "end_time": "2024-02-27T12:36:04.412273Z",
     "start_time": "2024-02-27T12:36:04.410192Z"
    }
   },
   "outputs": [
    {
     "name": "stdout",
     "output_type": "stream",
     "text": [
      "[[0.76752454 0.01533699 0.90265373 0.27163597 0.57707969 0.41351693\n",
      "  0.37964327 0.52893641]]\n",
      "[[0.50528254 0.14298639 0.86827556 0.39910182 0.51924199 0.01833643\n",
      "  0.61534173 0.18421898]]\n",
      "[[0.64217449]]\n"
     ]
    }
   ],
   "source": [
    "### Your code here ###\n",
    "X=np.array([[x1,x2]])\n",
    "np.random.seed(22)\n",
    "W1=np.reshape((np.random.normal(0,1,16)),(2,8))\n",
    "np.random.seed(22)\n",
    "b1=np.reshape((np.random.normal(0,1,8)),(8,))\n",
    "\n",
    "np.random.seed(22)\n",
    "W2=np.reshape((np.random.normal(0,1,64)),(8,8))\n",
    "np.random.seed(22)\n",
    "b2=np.reshape((np.random.normal(0,1,8)),(8,))\n",
    "\n",
    "np.random.seed(22)\n",
    "W3=np.reshape((np.random.normal(0,1,8)),(8,1))\n",
    "np.random.seed(22)\n",
    "b3=np.reshape((np.random.normal(0,1,1)),(1,))\n",
    "\n",
    "hidden=sigmoid(np.matmul(X,W1)+b1)\n",
    "print(hidden)\n",
    "\n",
    "hidden2=sigmoid(np.matmul(hidden,W2)+b2)\n",
    "print(hidden2)\n",
    "\n",
    "hidden3=sigmoid(np.matmul(hidden2,W3)+b3)\n",
    "print(hidden3)"
   ]
  },
  {
   "cell_type": "markdown",
   "source": [
    "Your answer here:\n",
    "\n",
    "-\n",
    "\n",
    "-"
   ],
   "metadata": {
    "id": "3As5eeEZoWe1"
   }
  },
  {
   "cell_type": "markdown",
   "metadata": {
    "id": "cVASw21H8svO"
   },
   "source": [
    "# Keras\n",
    "\n",
    "[Visit Keras Documentation](https://keras.io/2.15/api/)\n",
    "\n",
    "**Look at this part after the introduction of Keras.**\n",
    "\n",
    "\n",
    "We now do the same as above using Keras."
   ]
  },
  {
   "cell_type": "markdown",
   "metadata": {
    "id": "nS8rkNZ-8svP"
   },
   "source": [
    "### Forward pass in keras"
   ]
  },
  {
   "cell_type": "code",
   "execution_count": 116,
   "metadata": {
    "id": "nY_MnvGB8svP",
    "ExecuteTime": {
     "end_time": "2024-02-27T12:36:04.423640Z",
     "start_time": "2024-02-27T12:36:04.413773Z"
    }
   },
   "outputs": [
    {
     "name": "stdout",
     "output_type": "stream",
     "text": [
      "Model: \"sequential_6\"\n",
      "_________________________________________________________________\n",
      " Layer (type)                Output Shape              Param #   \n",
      "=================================================================\n",
      " dense_9 (Dense)             (None, 1)                 3         \n",
      "                                                                 \n",
      "=================================================================\n",
      "Total params: 3 (12.00 Byte)\n",
      "Trainable params: 3 (12.00 Byte)\n",
      "Non-trainable params: 0 (0.00 Byte)\n",
      "_________________________________________________________________\n"
     ]
    }
   ],
   "source": [
    "model = Sequential()                                        # starts the definition of the network\n",
    "model.add(Dense(1, batch_input_shape=(None, 2),             # adds a new layer to the network with a single neuron\n",
    "                activation='sigmoid'))                      # The input is a tensor of size (batch_size, 2),\n",
    "                                                            # since we don’t specify the Batch Size now, we use None as a placeholder\n",
    "                                                            # chooses the activation function ‘sigmoid’\n",
    "\n",
    "model.summary()"
   ]
  },
  {
   "cell_type": "code",
   "execution_count": 117,
   "metadata": {
    "id": "MU9jgBJe8svP",
    "ExecuteTime": {
     "end_time": "2024-02-27T12:36:04.426274Z",
     "start_time": "2024-02-27T12:36:04.423490Z"
    }
   },
   "outputs": [],
   "source": [
    "model.set_weights([W,np.array([b])])                        ## set the weights of the model to w1 w2 and b"
   ]
  },
  {
   "cell_type": "code",
   "execution_count": 118,
   "metadata": {
    "id": "rdAIAIkJ8svP",
    "ExecuteTime": {
     "end_time": "2024-02-27T12:36:06.971069Z",
     "start_time": "2024-02-27T12:36:04.425272Z"
    }
   },
   "outputs": [
    {
     "name": "stdout",
     "output_type": "stream",
     "text": [
      "1/1 [==============================] - 0s 18ms/step\n",
      "1/1 [==============================] - 0s 9ms/step\n",
      "1/1 [==============================] - 0s 9ms/step\n",
      "1/1 [==============================] - 0s 9ms/step\n",
      "1/1 [==============================] - 0s 9ms/step\n",
      "1/1 [==============================] - 0s 9ms/step\n",
      "1/1 [==============================] - 0s 8ms/step\n",
      "1/1 [==============================] - 0s 9ms/step\n",
      "1/1 [==============================] - 0s 9ms/step\n",
      "1/1 [==============================] - 0s 8ms/step\n",
      "1/1 [==============================] - 0s 9ms/step\n",
      "1/1 [==============================] - 0s 9ms/step\n",
      "1/1 [==============================] - 0s 8ms/step\n",
      "1/1 [==============================] - 0s 8ms/step\n",
      "1/1 [==============================] - 0s 9ms/step\n",
      "1/1 [==============================] - 0s 9ms/step\n",
      "1/1 [==============================] - 0s 9ms/step\n",
      "1/1 [==============================] - 0s 9ms/step\n",
      "1/1 [==============================] - 0s 8ms/step\n",
      "1/1 [==============================] - 0s 9ms/step\n",
      "1/1 [==============================] - 0s 8ms/step\n",
      "1/1 [==============================] - 0s 9ms/step\n",
      "1/1 [==============================] - 0s 8ms/step\n",
      "1/1 [==============================] - 0s 8ms/step\n",
      "1/1 [==============================] - 0s 8ms/step\n",
      "1/1 [==============================] - 0s 8ms/step\n",
      "1/1 [==============================] - 0s 8ms/step\n",
      "1/1 [==============================] - 0s 9ms/step\n",
      "1/1 [==============================] - 0s 9ms/step\n",
      "1/1 [==============================] - 0s 9ms/step\n",
      "1/1 [==============================] - 0s 8ms/step\n",
      "1/1 [==============================] - 0s 8ms/step\n",
      "1/1 [==============================] - 0s 9ms/step\n",
      "1/1 [==============================] - 0s 9ms/step\n",
      "1/1 [==============================] - 0s 8ms/step\n",
      "1/1 [==============================] - 0s 8ms/step\n",
      "1/1 [==============================] - 0s 8ms/step\n",
      "1/1 [==============================] - 0s 8ms/step\n",
      "1/1 [==============================] - 0s 9ms/step\n",
      "1/1 [==============================] - 0s 8ms/step\n",
      "1/1 [==============================] - 0s 9ms/step\n",
      "1/1 [==============================] - 0s 8ms/step\n",
      "1/1 [==============================] - 0s 8ms/step\n",
      "1/1 [==============================] - 0s 9ms/step\n",
      "1/1 [==============================] - 0s 9ms/step\n",
      "1/1 [==============================] - 0s 8ms/step\n",
      "1/1 [==============================] - 0s 9ms/step\n",
      "1/1 [==============================] - 0s 8ms/step\n",
      "1/1 [==============================] - 0s 8ms/step\n",
      "1/1 [==============================] - 0s 9ms/step\n",
      "1/1 [==============================] - 0s 8ms/step\n",
      "1/1 [==============================] - 0s 8ms/step\n",
      "1/1 [==============================] - 0s 8ms/step\n",
      "1/1 [==============================] - 0s 9ms/step\n",
      "1/1 [==============================] - 0s 9ms/step\n",
      "1/1 [==============================] - 0s 9ms/step\n",
      "1/1 [==============================] - 0s 9ms/step\n",
      "1/1 [==============================] - 0s 8ms/step\n",
      "1/1 [==============================] - 0s 9ms/step\n",
      "1/1 [==============================] - 0s 9ms/step\n",
      "1/1 [==============================] - 0s 9ms/step\n",
      "1/1 [==============================] - 0s 9ms/step\n",
      "1/1 [==============================] - 0s 8ms/step\n",
      "1/1 [==============================] - 0s 8ms/step\n",
      "1/1 [==============================] - 0s 9ms/step\n",
      "1/1 [==============================] - 0s 9ms/step\n",
      "1/1 [==============================] - 0s 8ms/step\n",
      "1/1 [==============================] - 0s 8ms/step\n",
      "1/1 [==============================] - 0s 8ms/step\n",
      "1/1 [==============================] - 0s 8ms/step\n",
      "1/1 [==============================] - 0s 9ms/step\n",
      "1/1 [==============================] - 0s 9ms/step\n",
      "1/1 [==============================] - 0s 8ms/step\n",
      "1/1 [==============================] - 0s 8ms/step\n",
      "1/1 [==============================] - 0s 8ms/step\n",
      "1/1 [==============================] - 0s 9ms/step\n",
      "1/1 [==============================] - 0s 9ms/step\n",
      "1/1 [==============================] - 0s 8ms/step\n",
      "1/1 [==============================] - 0s 9ms/step\n",
      "1/1 [==============================] - 0s 9ms/step\n",
      "1/1 [==============================] - 0s 9ms/step\n",
      "1/1 [==============================] - 0s 9ms/step\n",
      "1/1 [==============================] - 0s 9ms/step\n",
      "1/1 [==============================] - 0s 8ms/step\n",
      "1/1 [==============================] - 0s 9ms/step\n",
      "1/1 [==============================] - 0s 8ms/step\n",
      "1/1 [==============================] - 0s 9ms/step\n",
      "1/1 [==============================] - 0s 9ms/step\n",
      "1/1 [==============================] - 0s 8ms/step\n",
      "1/1 [==============================] - 0s 9ms/step\n",
      "1/1 [==============================] - 0s 9ms/step\n",
      "1/1 [==============================] - 0s 10ms/step\n",
      "1/1 [==============================] - 0s 8ms/step\n",
      "1/1 [==============================] - 0s 9ms/step\n",
      "1/1 [==============================] - 0s 9ms/step\n",
      "1/1 [==============================] - 0s 8ms/step\n",
      "1/1 [==============================] - 0s 8ms/step\n",
      "1/1 [==============================] - 0s 8ms/step\n",
      "1/1 [==============================] - 0s 8ms/step\n",
      "1/1 [==============================] - 0s 8ms/step\n"
     ]
    },
    {
     "data": {
      "text/plain": "<matplotlib.collections.PathCollection at 0x28fb97190>"
     },
     "execution_count": 118,
     "metadata": {},
     "output_type": "execute_result"
    },
    {
     "data": {
      "text/plain": "<Figure size 1600x400 with 2 Axes>",
      "image/png": "[encoded data removed]"
     },
     "metadata": {},
     "output_type": "display_data"
    }
   ],
   "source": [
    "# Plotting the decision boundary\n",
    "plotModel(model.predict, 'fcnn separation without hidden layer with keras')\n",
    "plt.scatter(X[0][0],X[0][1],c=\"black\",s=50)"
   ]
  },
  {
   "cell_type": "markdown",
   "metadata": {
    "id": "oZKHjQir8svP"
   },
   "source": [
    "### Forward pass with hidden layer (keras)"
   ]
  },
  {
   "cell_type": "code",
   "execution_count": 119,
   "metadata": {
    "id": "0jFd0hHH8svP",
    "ExecuteTime": {
     "end_time": "2024-02-27T12:36:06.988Z",
     "start_time": "2024-02-27T12:36:06.974890Z"
    }
   },
   "outputs": [
    {
     "name": "stdout",
     "output_type": "stream",
     "text": [
      "Model: \"sequential_7\"\n",
      "_________________________________________________________________\n",
      " Layer (type)                Output Shape              Param #   \n",
      "=================================================================\n",
      " dense_10 (Dense)            (None, 8)                 24        \n",
      "                                                                 \n",
      " dense_11 (Dense)            (None, 1)                 9         \n",
      "                                                                 \n",
      "=================================================================\n",
      "Total params: 33 (132.00 Byte)\n",
      "Trainable params: 33 (132.00 Byte)\n",
      "Non-trainable params: 0 (0.00 Byte)\n",
      "_________________________________________________________________\n"
     ]
    }
   ],
   "source": [
    "model = Sequential()\n",
    "model.add(Dense(8, batch_input_shape=(None, 2),activation='sigmoid'))\n",
    "model.add(Dense(1, activation='sigmoid'))\n",
    "model.summary()"
   ]
  },
  {
   "cell_type": "code",
   "execution_count": 120,
   "metadata": {
    "id": "GTxJfYSJ8svP",
    "ExecuteTime": {
     "end_time": "2024-02-27T12:36:07.037152Z",
     "start_time": "2024-02-27T12:36:06.989217Z"
    }
   },
   "outputs": [
    {
     "ename": "ValueError",
     "evalue": "Layer sequential_7 weight shape (8, 1) is not compatible with provided weight shape (8, 8).",
     "output_type": "error",
     "traceback": [
      "\u001B[0;31m---------------------------------------------------------------------------\u001B[0m",
      "\u001B[0;31mValueError\u001B[0m                                Traceback (most recent call last)",
      "Cell \u001B[0;32mIn[120], line 1\u001B[0m\n\u001B[0;32m----> 1\u001B[0m \u001B[43mmodel\u001B[49m\u001B[38;5;241;43m.\u001B[39;49m\u001B[43mset_weights\u001B[49m\u001B[43m(\u001B[49m\u001B[43m[\u001B[49m\u001B[43mW1\u001B[49m\u001B[43m,\u001B[49m\u001B[43mb1\u001B[49m\u001B[43m,\u001B[49m\u001B[43mW2\u001B[49m\u001B[43m,\u001B[49m\u001B[43mb2\u001B[49m\u001B[43m]\u001B[49m\u001B[43m)\u001B[49m \u001B[38;5;66;03m## set the weights of the model to W1, b1, W2 and b2\u001B[39;00m\n",
      "File \u001B[0;32m~/anaconda3/envs/deep-learning/lib/python3.11/site-packages/keras/src/engine/base_layer.py:1822\u001B[0m, in \u001B[0;36mLayer.set_weights\u001B[0;34m(self, weights)\u001B[0m\n\u001B[1;32m   1820\u001B[0m ref_shape \u001B[38;5;241m=\u001B[39m param\u001B[38;5;241m.\u001B[39mshape\n\u001B[1;32m   1821\u001B[0m \u001B[38;5;28;01mif\u001B[39;00m \u001B[38;5;129;01mnot\u001B[39;00m ref_shape\u001B[38;5;241m.\u001B[39mis_compatible_with(weight_shape):\n\u001B[0;32m-> 1822\u001B[0m     \u001B[38;5;28;01mraise\u001B[39;00m \u001B[38;5;167;01mValueError\u001B[39;00m(\n\u001B[1;32m   1823\u001B[0m         \u001B[38;5;124mf\u001B[39m\u001B[38;5;124m\"\u001B[39m\u001B[38;5;124mLayer \u001B[39m\u001B[38;5;132;01m{\u001B[39;00m\u001B[38;5;28mself\u001B[39m\u001B[38;5;241m.\u001B[39mname\u001B[38;5;132;01m}\u001B[39;00m\u001B[38;5;124m weight shape \u001B[39m\u001B[38;5;132;01m{\u001B[39;00mref_shape\u001B[38;5;132;01m}\u001B[39;00m\u001B[38;5;124m \u001B[39m\u001B[38;5;124m\"\u001B[39m\n\u001B[1;32m   1824\u001B[0m         \u001B[38;5;124m\"\u001B[39m\u001B[38;5;124mis not compatible with provided weight \u001B[39m\u001B[38;5;124m\"\u001B[39m\n\u001B[1;32m   1825\u001B[0m         \u001B[38;5;124mf\u001B[39m\u001B[38;5;124m\"\u001B[39m\u001B[38;5;124mshape \u001B[39m\u001B[38;5;132;01m{\u001B[39;00mweight_shape\u001B[38;5;132;01m}\u001B[39;00m\u001B[38;5;124m.\u001B[39m\u001B[38;5;124m\"\u001B[39m\n\u001B[1;32m   1826\u001B[0m     )\n\u001B[1;32m   1827\u001B[0m weight_value_tuples\u001B[38;5;241m.\u001B[39mappend((param, weight))\n\u001B[1;32m   1828\u001B[0m weight_index \u001B[38;5;241m+\u001B[39m\u001B[38;5;241m=\u001B[39m \u001B[38;5;241m1\u001B[39m\n",
      "\u001B[0;31mValueError\u001B[0m: Layer sequential_7 weight shape (8, 1) is not compatible with provided weight shape (8, 8)."
     ]
    }
   ],
   "source": [
    "model.set_weights([W1,b1,W2,b2]) ## set the weights of the model to W1, b1, W2 and b2"
   ]
  },
  {
   "cell_type": "code",
   "execution_count": null,
   "metadata": {
    "id": "eWuunH0u8svQ",
    "ExecuteTime": {
     "start_time": "2024-02-27T12:36:07.001654Z"
    }
   },
   "outputs": [],
   "source": [
    "# Plotting the decision boundary\n",
    "plotModel(model.predict, 'fcnn separation with hidden layer keras')\n",
    "plt.scatter(X[0][0],X[0][1],c=\"black\",s=50)"
   ]
  },
  {
   "cell_type": "code",
   "execution_count": null,
   "outputs": [],
   "source": [],
   "metadata": {
    "collapsed": false,
    "ExecuteTime": {
     "start_time": "2024-02-27T12:36:07.002739Z"
    }
   }
  }
 ],
 "metadata": {
  "kernelspec": {
   "display_name": "Python 3 (ipykernel)",
   "language": "python",
   "name": "python3"
  },
  "language_info": {
   "codemirror_mode": {
    "name": "ipython",
    "version": 3
   },
   "file_extension": ".py",
   "mimetype": "text/x-python",
   "name": "python",
   "nbconvert_exporter": "python",
   "pygments_lexer": "ipython3",
   "version": "3.7.11"
  },
  "colab": {
   "provenance": []
  }
 },
 "nbformat": 4,
 "nbformat_minor": 0
}
