{
 "nbformat": 4,
 "nbformat_minor": 0,
 "metadata": {
  "kernelspec": {
   "display_name": "Python 3",
   "language": "python",
   "name": "python3"
  },
  "language_info": {
   "codemirror_mode": {
    "name": "ipython",
    "version": 3
   },
   "file_extension": ".py",
   "mimetype": "text/x-python",
   "name": "python",
   "nbconvert_exporter": "python",
   "pygments_lexer": "ipython3",
   "version": "3.6.4"
  },
  "colab": {
   "provenance": []
  }
 },
 "cells": [
  {
   "cell_type": "markdown",
   "metadata": {
    "id": "YhwPaM2FW6jN"
   },
   "source": [
    "### Checking your installation\n",
    "\n",
    "Please check that the notebook below runs smoothly."
   ]
  },
  {
   "cell_type": "code",
   "metadata": {
    "id": "agdqbSNnW6jV",
    "colab": {
     "base_uri": "https://localhost:8080/",
     "height": 35
    },
    "outputId": "d001aeee-95c3-4a5d-bcab-ca3d8731c314",
    "executionInfo": {
     "status": "ok",
     "timestamp": 1707465948791,
     "user_tz": -60,
     "elapsed": 5,
     "user": {
      "displayName": "Pascal Bühler",
      "userId": "01261418420162852179"
     }
    },
    "ExecuteTime": {
     "end_time": "2024-02-25T11:16:56.018349Z",
     "start_time": "2024-02-25T11:16:55.984172Z"
    }
   },
   "source": [
    "import sys\n",
    "sys.version #Should work"
   ],
   "execution_count": 6,
   "outputs": [
    {
     "data": {
      "text/plain": "'3.11.8 | packaged by conda-forge | (main, Feb 16 2024, 20:49:36) [Clang 16.0.6 ]'"
     },
     "execution_count": 6,
     "metadata": {},
     "output_type": "execute_result"
    }
   ]
  },
  {
   "cell_type": "code",
   "metadata": {
    "id": "F5rUssLdW6jk",
    "colab": {
     "base_uri": "https://localhost:8080/",
     "height": 35
    },
    "outputId": "1b43ef91-5493-4d8c-b7b7-ab4468ad9763",
    "executionInfo": {
     "status": "ok",
     "timestamp": 1707465961340,
     "user_tz": -60,
     "elapsed": 7428,
     "user": {
      "displayName": "Pascal Bühler",
      "userId": "01261418420162852179"
     }
    },
    "ExecuteTime": {
     "end_time": "2024-02-25T11:16:56.020783Z",
     "start_time": "2024-02-25T11:16:55.988006Z"
    }
   },
   "source": [
    "import tensorflow as tf\n",
    "tf.__version__ #Should work and give 2.0.0 / 2.15.0"
   ],
   "execution_count": 7,
   "outputs": [
    {
     "data": {
      "text/plain": "'2.15.0'"
     },
     "execution_count": 7,
     "metadata": {},
     "output_type": "execute_result"
    }
   ]
  },
  {
   "cell_type": "code",
   "metadata": {
    "id": "r-38gjk-X9HY",
    "colab": {
     "base_uri": "https://localhost:8080/",
     "height": 35
    },
    "outputId": "fbca26bf-815b-4a1e-be80-36ed309e992a",
    "executionInfo": {
     "status": "ok",
     "timestamp": 1707465981424,
     "user_tz": -60,
     "elapsed": 916,
     "user": {
      "displayName": "Pascal Bühler",
      "userId": "01261418420162852179"
     }
    },
    "ExecuteTime": {
     "end_time": "2024-02-25T11:16:56.020965Z",
     "start_time": "2024-02-25T11:16:55.991043Z"
    }
   },
   "source": [
    "import tensorflow_probability as tfp\n",
    "tfp.__version__ #Should work and give 0.8.0 / 0.23.0"
   ],
   "execution_count": 8,
   "outputs": [
    {
     "data": {
      "text/plain": "'0.23.0'"
     },
     "execution_count": 8,
     "metadata": {},
     "output_type": "execute_result"
    }
   ]
  },
  {
   "cell_type": "code",
   "metadata": {
    "id": "1g-oZyh0W6ju",
    "colab": {
     "base_uri": "https://localhost:8080/",
     "height": 35
    },
    "outputId": "b91a45e6-b702-49e6-a52a-f94c5522c806",
    "executionInfo": {
     "status": "ok",
     "timestamp": 1707466014911,
     "user_tz": -60,
     "elapsed": 215,
     "user": {
      "displayName": "Pascal Bühler",
      "userId": "01261418420162852179"
     }
    },
    "ExecuteTime": {
     "end_time": "2024-02-25T11:16:56.021457Z",
     "start_time": "2024-02-25T11:16:55.994762Z"
    }
   },
   "source": [
    "import numpy as np\n",
    "np.__version__ #Should work 1.23.5"
   ],
   "execution_count": 9,
   "outputs": [
    {
     "data": {
      "text/plain": "'1.26.4'"
     },
     "execution_count": 9,
     "metadata": {},
     "output_type": "execute_result"
    }
   ]
  },
  {
   "cell_type": "code",
   "metadata": {
    "id": "Ara9PjQqW6j3",
    "colab": {
     "base_uri": "https://localhost:8080/",
     "height": 447
    },
    "outputId": "5f5e483b-c1dd-4ec9-fd12-696ddb7f8da6",
    "executionInfo": {
     "status": "ok",
     "timestamp": 1707466117620,
     "user_tz": -60,
     "elapsed": 584,
     "user": {
      "displayName": "Pascal Bühler",
      "userId": "01261418420162852179"
     }
    },
    "ExecuteTime": {
     "end_time": "2024-02-25T11:16:56.530529Z",
     "start_time": "2024-02-25T11:16:55.998792Z"
    }
   },
   "source": [
    "import matplotlib.pyplot as plt\n",
    "%matplotlib inline\n",
    "plt.scatter(range(100), np.sin(0.1 * np.array(range(100))))\n",
    "#Should work and plot a sine wave"
   ],
   "execution_count": 10,
   "outputs": [
    {
     "data": {
      "text/plain": "<matplotlib.collections.PathCollection at 0x287c4db90>"
     },
     "execution_count": 10,
     "metadata": {},
     "output_type": "execute_result"
    },
    {
     "data": {
      "text/plain": "<Figure size 640x480 with 1 Axes>",
      "image/png": "[encoded data removed]"
     },
     "metadata": {},
     "output_type": "display_data"
    }
   ]
  },
  {
   "cell_type": "code",
   "metadata": {
    "id": "Ic4R2cMSW6j8",
    "ExecuteTime": {
     "end_time": "2024-02-25T11:16:56.530906Z",
     "start_time": "2024-02-25T11:16:56.529044Z"
    }
   },
   "source": [],
   "execution_count": 10,
   "outputs": []
  }
 ]
}
